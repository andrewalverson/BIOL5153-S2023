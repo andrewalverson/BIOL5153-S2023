{
 "cells": [
  {
   "cell_type": "markdown",
   "id": "3cbec87a",
   "metadata": {},
   "source": [
    "## reading files"
   ]
  },
  {
   "cell_type": "code",
   "execution_count": null,
   "id": "08bfa28c",
   "metadata": {},
   "outputs": [],
   "source": [
    "# set the file name\n",
    "infile = 'covid.fasta'\n",
    "\n",
    "# open the file\n",
    "genome = open(infile, \"r\")\n",
    "\n",
    "# print(genome)"
   ]
  },
  {
   "cell_type": "code",
   "execution_count": null,
   "id": "adfa7ec2",
   "metadata": {},
   "outputs": [],
   "source": [
    "# read the file\n",
    "dna_sequence = genome.read()\n",
    "\n",
    "# print the contents\n",
    "print(dna_sequence)\n"
   ]
  },
  {
   "cell_type": "code",
   "execution_count": null,
   "id": "0b34b395",
   "metadata": {},
   "outputs": [],
   "source": [
    "# close the file\n",
    "genome.close()"
   ]
  },
  {
   "cell_type": "code",
   "execution_count": null,
   "id": "ff3d0306",
   "metadata": {},
   "outputs": [],
   "source": [
    "# another way to read a file\n",
    "\n",
    "infile = 'fruit.txt'\n",
    "\n",
    "with open(infile) as fruit:\n",
    "    data = fruit.read()"
   ]
  },
  {
   "cell_type": "code",
   "execution_count": null,
   "id": "64ac3c05",
   "metadata": {},
   "outputs": [],
   "source": [
    "print('#begin data')\n",
    "print(data, end = '')\n",
    "print('#end data')\n"
   ]
  },
  {
   "cell_type": "code",
   "execution_count": null,
   "id": "a17e05f6",
   "metadata": {},
   "outputs": [],
   "source": [
    "# reading a file line by line\n",
    "\n",
    "# open file with all the songs on Blood on the Tracks\n",
    "album = open('blood_on_the_tracks.txt', \"r\")\n",
    "\n",
    "# count the tracks\n",
    "song_num = 0\n",
    "\n",
    "# loop over all the lines in the file\n",
    "for track in album:\n",
    "    song_num += 1\n",
    "    track = track.rstrip()\n",
    "    print(str(song_num) + ': ' + track)\n",
    "    # song_num = song_num + 1\n"
   ]
  },
  {
   "cell_type": "code",
   "execution_count": 1,
   "id": "728988f5",
   "metadata": {},
   "outputs": [
    {
     "name": "stdout",
     "output_type": "stream",
     "text": [
      "1: Tangled Up in Blue\n",
      "2: Simple Twist of Fate\n",
      "3: You're a Big Girl Now\n",
      "4: Idiot Wind\n",
      "5: You're Gonna Make Me Lonesome When You Go\n",
      "6: Meet Me in the Morning\n",
      "7: Lily, Rosemary and the Jack of Hearts\n",
      "8: If You See Her, Say Hello\n",
      "9: Shelter from the Storm\n",
      "10: Buckets of Rain\n"
     ]
    }
   ],
   "source": [
    "# open file with all the songs on Blood on the Tracks\n",
    "album = open('blood_on_the_tracks.txt', \"r\")\n",
    "\n",
    "# count the tracks\n",
    "song_num = 0\n",
    "\n",
    "# loop over all the lines in the file\n",
    "for track in album:\n",
    "    song_num += 1\n",
    "    track = track.rstrip()\n",
    "    print(str(song_num) + ': ' + track)\n",
    "    # song_num = song_num + 1\n",
    "\n",
    "\n",
    "\n",
    "\n",
    "\n",
    "\n",
    "\n",
    "\n",
    "\n",
    "\n",
    "\n",
    "\n",
    "\n",
    "\n",
    "\n",
    "\n",
    "\n",
    "\n",
    "\n",
    "\n",
    "\n",
    "\n",
    "\n"
   ]
  },
  {
   "cell_type": "markdown",
   "id": "faa15971",
   "metadata": {},
   "source": [
    "## writing out to a file"
   ]
  },
  {
   "cell_type": "code",
   "execution_count": 5,
   "id": "db4cff23",
   "metadata": {},
   "outputs": [
    {
     "name": "stdout",
     "output_type": "stream",
     "text": [
      "1: Tangled Up in Blue\n",
      "2: Simple Twist of Fate\n",
      "3: You're a Big Girl Now\n",
      "4: Idiot Wind\n",
      "5: You're Gonna Make Me Lonesome When You Go\n",
      "6: Meet Me in the Morning\n",
      "7: Lily, Rosemary and the Jack of Hearts\n",
      "8: If You See Her, Say Hello\n",
      "9: Shelter from the Storm\n",
      "10: Buckets of Rain\n"
     ]
    }
   ],
   "source": [
    "# open file with all the songs on Blood on the Tracks\n",
    "album = open('blood_on_the_tracks.txt', \"r\")\n",
    "outfile = open('track-listing.txt', 'w')\n",
    "\n",
    "# count the tracks\n",
    "song_num = 0\n",
    "\n",
    "# loop over all the lines in the file\n",
    "for track in album:\n",
    "    song_num += 1\n",
    "    track = track.rstrip()\n",
    "    print(str(song_num) + ': ' + track)\n",
    "    outfile.write(str(song_num) + ': ' + track + '\\n')\n",
    "\n",
    "# close the input and output files\n",
    "album.close()\n",
    "outfile.close()\n",
    "    "
   ]
  }
 ],
 "metadata": {
  "kernelspec": {
   "display_name": "Python 3",
   "language": "python",
   "name": "python3"
  },
  "language_info": {
   "codemirror_mode": {
    "name": "ipython",
    "version": 3
   },
   "file_extension": ".py",
   "mimetype": "text/x-python",
   "name": "python",
   "nbconvert_exporter": "python",
   "pygments_lexer": "ipython3",
   "version": "3.10.8"
  }
 },
 "nbformat": 4,
 "nbformat_minor": 5
}
