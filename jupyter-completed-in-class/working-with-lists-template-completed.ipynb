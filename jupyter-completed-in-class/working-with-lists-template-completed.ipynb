{
 "cells": [
  {
   "cell_type": "markdown",
   "metadata": {},
   "source": [
    "## working with lists"
   ]
  },
  {
   "cell_type": "code",
   "execution_count": 7,
   "metadata": {},
   "outputs": [],
   "source": [
    "# declare an empty string\n",
    "bob = ''\n",
    "\n",
    "# declare a list\n",
    "beatles = []"
   ]
  },
  {
   "cell_type": "code",
   "execution_count": 8,
   "metadata": {
    "tags": []
   },
   "outputs": [
    {
     "name": "stdout",
     "output_type": "stream",
     "text": [
      "<class 'list'>\n"
     ]
    }
   ],
   "source": [
    "print(type(beatles))"
   ]
  },
  {
   "cell_type": "code",
   "execution_count": 9,
   "metadata": {},
   "outputs": [],
   "source": [
    "beatles = [\"John\", \"Paul\", \"George\", \"Ringo\", \"Stuart\"]"
   ]
  },
  {
   "cell_type": "code",
   "execution_count": 10,
   "metadata": {
    "tags": []
   },
   "outputs": [
    {
     "name": "stdout",
     "output_type": "stream",
     "text": [
      "['John', 'Paul', 'George', 'Ringo', 'Stuart']\n"
     ]
    }
   ],
   "source": [
    "print(beatles)"
   ]
  },
  {
   "cell_type": "code",
   "execution_count": 11,
   "metadata": {
    "tags": []
   },
   "outputs": [
    {
     "name": "stdout",
     "output_type": "stream",
     "text": [
      "There are 5 Beatles\n"
     ]
    }
   ],
   "source": [
    "# calculate number of beatles\n",
    "number_of_beatles = len(beatles)\n",
    "\n",
    "# print number of beatles\n",
    "print(\"There are\", number_of_beatles, \"Beatles\")"
   ]
  },
  {
   "cell_type": "code",
   "execution_count": 12,
   "metadata": {
    "tags": []
   },
   "outputs": [
    {
     "name": "stdout",
     "output_type": "stream",
     "text": [
      "The last Beatle is Stuart\n",
      "The last Beatle is Stuart\n"
     ]
    }
   ],
   "source": [
    "# print a Beatle\n",
    "print(\"The last Beatle is\", beatles[len(beatles)-1])\n",
    "print(\"The last Beatle is\", beatles[-1])"
   ]
  },
  {
   "cell_type": "code",
   "execution_count": 13,
   "metadata": {
    "tags": []
   },
   "outputs": [
    {
     "name": "stdout",
     "output_type": "stream",
     "text": [
      "John\n"
     ]
    }
   ],
   "source": [
    "# print the first beatle\n",
    "print(beatles[0])"
   ]
  },
  {
   "cell_type": "code",
   "execution_count": 14,
   "metadata": {
    "tags": []
   },
   "outputs": [
    {
     "name": "stdout",
     "output_type": "stream",
     "text": [
      "['John', 'Paul', 'George', 'Ringo']\n",
      "Stuart\n"
     ]
    }
   ],
   "source": [
    "# Let's remove Stuart\n",
    "stu = beatles.pop()\n",
    "\n",
    "# What happened to the Beatles?\n",
    "print(beatles)\n",
    "print(stu)"
   ]
  },
  {
   "cell_type": "code",
   "execution_count": null,
   "metadata": {},
   "outputs": [],
   "source": [
    "stones = [\"Mick\", \"Ron\", \"Keith\"]"
   ]
  },
  {
   "cell_type": "code",
   "execution_count": null,
   "metadata": {
    "tags": []
   },
   "outputs": [],
   "source": [
    "# add two lists together\n",
    "supergroup = beatles + stones\n",
    "\n",
    "# print our new list\n",
    "print(supergroup)\n",
    "print(len(supergroup))"
   ]
  },
  {
   "cell_type": "markdown",
   "metadata": {},
   "source": [
    "## understanding `extend()`"
   ]
  },
  {
   "cell_type": "code",
   "execution_count": 4,
   "metadata": {},
   "outputs": [
    {
     "name": "stdout",
     "output_type": "stream",
     "text": [
      "['jackie', 'tito', 'jermaine', 'marlon']\n"
     ]
    }
   ],
   "source": [
    "# start fresh with new groups\n",
    "jackson5 = ['jackie', 'tito', 'jermaine', 'marlon', 'michael']\n",
    "destiny  = ['beyonce', 'kelly', 'michelle']\n",
    "divas    = ['alicia', 'maryjblige']\n",
    "jackson5.pop()\n",
    "print(jackson5)"
   ]
  },
  {
   "cell_type": "code",
   "execution_count": 5,
   "metadata": {
    "scrolled": false,
    "tags": []
   },
   "outputs": [
    {
     "name": "stdout",
     "output_type": "stream",
     "text": [
      "Jackson5: ['jackie', 'tito', 'jermaine', 'marlon', 'beyonce', 'kelly', 'michelle']\n",
      "Destiny's Child: ['beyonce', 'kelly', 'michelle']\n",
      "Supergroup: None\n"
     ]
    }
   ],
   "source": [
    "# what does extend do?\n",
    "super = jackson5.extend(destiny)\n",
    "print(\"Jackson5:\", jackson5)\n",
    "print(\"Destiny's Child:\", destiny)\n",
    "print(\"Supergroup:\", super)\n",
    "\n",
    "# extend() modifies a list in place, it doesn't return a value (i.e., a new list)\n",
    "# use \"+\" if you want to create a new list"
   ]
  },
  {
   "cell_type": "markdown",
   "metadata": {},
   "source": [
    "## indexing lists"
   ]
  },
  {
   "cell_type": "code",
   "execution_count": 6,
   "metadata": {
    "tags": []
   },
   "outputs": [
    {
     "name": "stdout",
     "output_type": "stream",
     "text": [
      "['beyonce', 'kelly', 'michelle', 'alicia', 'maryjblige']\n"
     ]
    }
   ],
   "source": [
    "# make and print a new supergroup, 'destiny_plus'\n",
    "destiny_plus = destiny + divas\n",
    "print(destiny_plus)"
   ]
  },
  {
   "cell_type": "code",
   "execution_count": 15,
   "metadata": {
    "tags": []
   },
   "outputs": [
    {
     "name": "stdout",
     "output_type": "stream",
     "text": [
      "['beyonce', 'kelly', 'michelle', 'alicia', 'maryjblige', ['John', 'Paul', 'George', 'Ringo']]\n"
     ]
    }
   ],
   "source": [
    "# use `append()` to add some old men\n",
    "destiny_plus.append(beatles)\n",
    "print(destiny_plus)"
   ]
  },
  {
   "cell_type": "code",
   "execution_count": 18,
   "metadata": {
    "tags": []
   },
   "outputs": [
    {
     "name": "stdout",
     "output_type": "stream",
     "text": [
      "['John', 'Paul', 'George', 'Ringo']\n",
      "Ringo is one lucky dude\n"
     ]
    }
   ],
   "source": [
    "## find and print Ringo, who is buried in a list within a list\n",
    "\n",
    "# prints the beatles\n",
    "print(destiny_plus[5])\n",
    "\n",
    "# prints Ringo\n",
    "print(destiny_plus[5][3], \"is one lucky dude\")"
   ]
  },
  {
   "cell_type": "markdown",
   "metadata": {},
   "source": [
    "## loop over a list"
   ]
  },
  {
   "cell_type": "code",
   "execution_count": 19,
   "metadata": {
    "tags": []
   },
   "outputs": [
    {
     "name": "stdout",
     "output_type": "stream",
     "text": [
      "beyonce\n",
      "kelly\n",
      "michelle\n",
      "alicia\n",
      "maryjblige\n",
      "['John', 'Paul', 'George', 'Ringo']\n"
     ]
    }
   ],
   "source": [
    "# loop over 'destiny_plus'\n",
    "for person in destiny_plus:\n",
    "    print(person)"
   ]
  },
  {
   "cell_type": "markdown",
   "metadata": {},
   "source": [
    "## loop over a list within a list"
   ]
  },
  {
   "cell_type": "code",
   "execution_count": 20,
   "metadata": {
    "tags": []
   },
   "outputs": [
    {
     "name": "stdout",
     "output_type": "stream",
     "text": [
      "John\n",
      "Paul\n",
      "George\n",
      "Ringo\n"
     ]
    }
   ],
   "source": [
    "# loop over the old guys in 'destiny_plus'\n",
    "for person in destiny_plus[5]:\n",
    "    print(person)"
   ]
  },
  {
   "cell_type": "markdown",
   "metadata": {},
   "source": [
    "### introducing a test"
   ]
  },
  {
   "cell_type": "code",
   "execution_count": 21,
   "metadata": {
    "tags": []
   },
   "outputs": [
    {
     "name": "stdout",
     "output_type": "stream",
     "text": [
      "beyonce\n",
      "kelly\n",
      "michelle\n",
      "alicia\n",
      "maryjblige\n",
      "It's a list: ['John', 'Paul', 'George', 'Ringo']\n"
     ]
    }
   ],
   "source": [
    "# what 'type' of variable is this anyway?\n",
    "for person in destiny_plus:\n",
    "    if type(person) is list:\n",
    "        print(\"It's a list:\", person)\n",
    "    else:\n",
    "        print(person)"
   ]
  },
  {
   "cell_type": "markdown",
   "metadata": {},
   "source": [
    "### executing a nested `for` loop"
   ]
  },
  {
   "cell_type": "code",
   "execution_count": 23,
   "metadata": {
    "tags": []
   },
   "outputs": [
    {
     "name": "stdout",
     "output_type": "stream",
     "text": [
      "beyonce\n",
      "kelly\n",
      "michelle\n",
      "alicia\n",
      "maryjblige\n",
      "John\n",
      "Paul\n",
      "George\n",
      "Ringo\n"
     ]
    }
   ],
   "source": [
    "# loop within a loop\n",
    "\n",
    "i = 1\n",
    "j = 1\n",
    "\n",
    "for person in destiny_plus:\n",
    "    if type(person) is list:\n",
    "        for dude in person:\n",
    "            print(dude)\n",
    "            # print(\"old dude #\" + str(i) + \": \" + dude)\n",
    "            # i += 1\n",
    "    else:\n",
    "        # print(\"diva #\" + str(j) + \": \" + person)\n",
    "        # j += 1\n",
    "        print(person)"
   ]
  },
  {
   "cell_type": "markdown",
   "metadata": {},
   "source": [
    "### retrieve the index _and_ the value with `enumerate()`"
   ]
  },
  {
   "cell_type": "code",
   "execution_count": 29,
   "metadata": {
    "tags": []
   },
   "outputs": [
    {
     "name": "stdout",
     "output_type": "stream",
     "text": [
      "0 beyonce\n",
      "1 kelly\n",
      "2 michelle\n",
      "3 alicia\n",
      "4 maryjblige\n",
      "5 John\n",
      "6 Paul\n",
      "7 George\n",
      "8 Ringo\n"
     ]
    }
   ],
   "source": [
    "# lots of flexibility with enumerate()\n",
    "for i, member in enumerate(destiny_plus):\n",
    "    if type(member) is list:\n",
    "        for j, dude in enumerate(member):\n",
    "            k = i+j\n",
    "            print(k, dude)\n",
    "    else:\n",
    "        print(i, member)\n"
   ]
  },
  {
   "cell_type": "markdown",
   "metadata": {},
   "source": [
    "## lists as strings"
   ]
  },
  {
   "cell_type": "code",
   "execution_count": 34,
   "metadata": {},
   "outputs": [
    {
     "name": "stdout",
     "output_type": "stream",
     "text": [
      "first exon: ATGCCAGT\n",
      "intron: ttccggaa\n",
      "second exon: GTTCTAA\n",
      "ATG\n",
      "ATG\n",
      "stop codon: TAA\n",
      "CDS: ATGCCAGTGTTCTAA\n"
     ]
    }
   ],
   "source": [
    "# gene sequence string: CAPS == exons, lower == intron\n",
    "\n",
    "gene = 'ATGCCAGTttccggaaGTTCTAA'\n",
    "\n",
    "# print the first exon: ATGCCAGT\n",
    "print(\"first exon:\", gene[:8])\n",
    "\n",
    "# print the intron: ttccggaa \n",
    "print(\"intron:\", gene[8:16])\n",
    "\n",
    "# print the second exon: GTTCTAA\n",
    "print(\"second exon:\", gene[16:])\n",
    "\n",
    "# print the start codon: ATG\n",
    "print(gene[0:3])\n",
    "print(gene[:3])\n",
    "\n",
    "# print the stop codon: TAA\n",
    "print(\"stop codon:\", gene[-3:])\n",
    "\n",
    "# print the CDS: ATGCCAGTGTTCTAA\n",
    "print(\"CDS:\", gene[:8] + gene[16:])\n"
   ]
  },
  {
   "cell_type": "code",
   "execution_count": null,
   "metadata": {},
   "outputs": [],
   "source": []
  }
 ],
 "metadata": {
  "kernelspec": {
   "display_name": "Python 3",
   "language": "python",
   "name": "python3"
  },
  "language_info": {
   "codemirror_mode": {
    "name": "ipython",
    "version": 3
   },
   "file_extension": ".py",
   "mimetype": "text/x-python",
   "name": "python",
   "nbconvert_exporter": "python",
   "pygments_lexer": "ipython3",
   "version": "3.10.8"
  }
 },
 "nbformat": 4,
 "nbformat_minor": 2
}
